{
 "cells": [
  {
   "cell_type": "code",
   "execution_count": 2,
   "metadata": {},
   "outputs": [
    {
     "name": "stdout",
     "output_type": "stream",
     "text": [
      "The autoreload extension is already loaded. To reload it, use:\n",
      "  %reload_ext autoreload\n"
     ]
    },
    {
     "name": "stderr",
     "output_type": "stream",
     "text": [
      "/home/jmperez/projects/docencia/portada_nlp/.venv/lib/python3.10/site-packages/ebooklib/epub.py:1395: UserWarning: In the future version we will turn default option ignore_ncx to True.\n",
      "  warnings.warn('In the future version we will turn default option ignore_ncx to True.')\n"
     ]
    }
   ],
   "source": [
    "%load_ext autoreload\n",
    "%autoreload 2\n",
    "\n",
    "path = \"../../data/lineages.epub\"\n",
    "\n",
    "# Read epub\n",
    "\n",
    "import ebooklib\n",
    "\n",
    "from ebooklib import epub\n",
    "\n",
    "book = epub.read_epub(path)\n"
   ]
  },
  {
   "cell_type": "code",
   "execution_count": 85,
   "metadata": {},
   "outputs": [
    {
     "name": "stdout",
     "output_type": "stream",
     "text": [
      "00 -- The Absolutist State in the West\n",
      "../../data/lineages/00_the_absolutist_state.txt\n",
      "01 -- Class and State: Problems of Periodization\n",
      "../../data/lineages/01_class_and_state.txt\n",
      "02 -- Spain\n",
      "../../data/lineages/02_spain.txt\n",
      "03 -- France\n",
      "../../data/lineages/03_france.txt\n",
      "04 -- England\n",
      "../../data/lineages/04_england.txt\n",
      "05 -- Italy\n",
      "../../data/lineages/05_italy.txt\n",
      "06 -- Sweden\n",
      "../../data/lineages/06_sweden.txt\n",
      "07 -- Absolutism in the East\n",
      "../../data/lineages/07_absolutism_in_the.txt\n",
      "08 -- Nobility and Monarchy: the Eastern Variant\n",
      "../../data/lineages/08_nobility_and_monarchy.txt\n",
      "09 -- Prussia\n",
      "../../data/lineages/09_prussia.txt\n",
      "10 -- Poland\n",
      "../../data/lineages/10_poland.txt\n",
      "11 -- Austria\n",
      "../../data/lineages/11_austria.txt\n",
      "12 -- Russia\n",
      "../../data/lineages/12_russia.txt\n",
      "13 -- The House of Islam\n",
      "../../data/lineages/13_the_house_of.txt\n"
     ]
    }
   ],
   "source": [
    "from bs4 import BeautifulSoup\n",
    "# print the table of contents\n",
    "\n",
    "\n",
    "text = \"\"\n",
    "\n",
    "titleClass = \"chapterTitle\"\n",
    "\n",
    "count = 0\n",
    "\n",
    "for item in book.get_items():\n",
    "    if item.get_type() == ebooklib.ITEM_DOCUMENT:\n",
    "        #print(item.get_name())\n",
    "\n",
    "        soup = BeautifulSoup(item.get_content(), 'html.parser')\n",
    "\n",
    "        title = soup.find(\"p\", class_=titleClass)\n",
    "\n",
    "        if title:\n",
    "            base_title = title.get_text()\n",
    "\n",
    "            # Get three first words of title\n",
    "\n",
    "\n",
    "            title_text = f\"{str(count).zfill(2)} -- {base_title}\"\n",
    "\n",
    "            path = f\"../../data/lineages/{str(count).zfill(2)}_{'_'.join(base_title.split(' ')[:3])}.txt\".lower()\n",
    "\n",
    "            path = path.replace(\":\", \"\")\n",
    "            print(title_text)\n",
    "            print(path)\n",
    "            count += 1\n",
    "\n",
    "            with open(path, \"w\") as f:\n",
    "                f.write(title_text + \"\\n\\n\")\n",
    "                f.write(soup.get_text().strip())\n",
    "\n",
    "\n",
    "\n"
   ]
  }
 ],
 "metadata": {
  "kernelspec": {
   "display_name": ".venv",
   "language": "python",
   "name": "python3"
  },
  "language_info": {
   "codemirror_mode": {
    "name": "ipython",
    "version": 3
   },
   "file_extension": ".py",
   "mimetype": "text/x-python",
   "name": "python",
   "nbconvert_exporter": "python",
   "pygments_lexer": "ipython3",
   "version": "3.10.7"
  }
 },
 "nbformat": 4,
 "nbformat_minor": 2
}
