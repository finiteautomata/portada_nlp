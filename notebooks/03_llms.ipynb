{
 "cells": [
  {
   "cell_type": "markdown",
   "metadata": {},
   "source": [
    "# PortADa NLP Workshop\n",
    "# Notebook 03: LLMs\n",
    "## Author: Juan Manuel Pérez, 2024\n",
    "\n",
    "\n",
    "In this notebook we will use ChatGPT in different settings. Our main goal is to parse text from OCRed data in order to get it tabulated.\n",
    "\n"
   ]
  },
  {
   "cell_type": "code",
   "execution_count": 1,
   "metadata": {},
   "outputs": [
    {
     "name": "stdout",
     "output_type": "stream",
     "text": [
      "Requirement already satisfied: openai in /home/jmperez/projects/docencia/portada_nlp/.venv/lib/python3.10/site-packages (1.12.0)\n",
      "Requirement already satisfied: tiktoken in /home/jmperez/projects/docencia/portada_nlp/.venv/lib/python3.10/site-packages (0.6.0)\n",
      "Requirement already satisfied: httpx<1,>=0.23.0 in /home/jmperez/projects/docencia/portada_nlp/.venv/lib/python3.10/site-packages (from openai) (0.26.0)\n",
      "Requirement already satisfied: pydantic<3,>=1.9.0 in /home/jmperez/projects/docencia/portada_nlp/.venv/lib/python3.10/site-packages (from openai) (2.6.1)\n",
      "Requirement already satisfied: sniffio in /home/jmperez/projects/docencia/portada_nlp/.venv/lib/python3.10/site-packages (from openai) (1.3.0)\n",
      "Requirement already satisfied: distro<2,>=1.7.0 in /home/jmperez/projects/docencia/portada_nlp/.venv/lib/python3.10/site-packages (from openai) (1.9.0)\n",
      "Requirement already satisfied: tqdm>4 in /home/jmperez/projects/docencia/portada_nlp/.venv/lib/python3.10/site-packages (from openai) (4.66.1)\n",
      "Requirement already satisfied: typing-extensions<5,>=4.7 in /home/jmperez/projects/docencia/portada_nlp/.venv/lib/python3.10/site-packages (from openai) (4.9.0)\n",
      "Requirement already satisfied: anyio<5,>=3.5.0 in /home/jmperez/projects/docencia/portada_nlp/.venv/lib/python3.10/site-packages (from openai) (4.2.0)\n",
      "Requirement already satisfied: regex>=2022.1.18 in /home/jmperez/projects/docencia/portada_nlp/.venv/lib/python3.10/site-packages (from tiktoken) (2023.12.25)\n",
      "Requirement already satisfied: requests>=2.26.0 in /home/jmperez/projects/docencia/portada_nlp/.venv/lib/python3.10/site-packages (from tiktoken) (2.31.0)\n",
      "Requirement already satisfied: idna>=2.8 in /home/jmperez/projects/docencia/portada_nlp/.venv/lib/python3.10/site-packages (from anyio<5,>=3.5.0->openai) (3.6)\n",
      "Requirement already satisfied: exceptiongroup>=1.0.2 in /home/jmperez/projects/docencia/portada_nlp/.venv/lib/python3.10/site-packages (from anyio<5,>=3.5.0->openai) (1.2.0)\n",
      "Requirement already satisfied: certifi in /home/jmperez/projects/docencia/portada_nlp/.venv/lib/python3.10/site-packages (from httpx<1,>=0.23.0->openai) (2024.2.2)\n",
      "Requirement already satisfied: httpcore==1.* in /home/jmperez/projects/docencia/portada_nlp/.venv/lib/python3.10/site-packages (from httpx<1,>=0.23.0->openai) (1.0.2)\n",
      "Requirement already satisfied: h11<0.15,>=0.13 in /home/jmperez/projects/docencia/portada_nlp/.venv/lib/python3.10/site-packages (from httpcore==1.*->httpx<1,>=0.23.0->openai) (0.14.0)\n",
      "Requirement already satisfied: annotated-types>=0.4.0 in /home/jmperez/projects/docencia/portada_nlp/.venv/lib/python3.10/site-packages (from pydantic<3,>=1.9.0->openai) (0.6.0)\n",
      "Requirement already satisfied: pydantic-core==2.16.2 in /home/jmperez/projects/docencia/portada_nlp/.venv/lib/python3.10/site-packages (from pydantic<3,>=1.9.0->openai) (2.16.2)\n",
      "Requirement already satisfied: urllib3<3,>=1.21.1 in /home/jmperez/projects/docencia/portada_nlp/.venv/lib/python3.10/site-packages (from requests>=2.26.0->tiktoken) (2.2.0)\n",
      "Requirement already satisfied: charset-normalizer<4,>=2 in /home/jmperez/projects/docencia/portada_nlp/.venv/lib/python3.10/site-packages (from requests>=2.26.0->tiktoken) (3.3.2)\n",
      "\n",
      "\u001b[1m[\u001b[0m\u001b[34;49mnotice\u001b[0m\u001b[1;39;49m]\u001b[0m\u001b[39;49m A new release of pip available: \u001b[0m\u001b[31;49m22.2.2\u001b[0m\u001b[39;49m -> \u001b[0m\u001b[32;49m24.0\u001b[0m\n",
      "\u001b[1m[\u001b[0m\u001b[34;49mnotice\u001b[0m\u001b[1;39;49m]\u001b[0m\u001b[39;49m To update, run: \u001b[0m\u001b[32;49mpip install --upgrade pip\u001b[0m\n"
     ]
    }
   ],
   "source": [
    "!pip install openai tiktoken"
   ]
  },
  {
   "cell_type": "code",
   "execution_count": 2,
   "metadata": {},
   "outputs": [],
   "source": [
    "# Get API key from getpass\n",
    "from getpass import getpass\n",
    "\n",
    "# Set the API key just for this session\n",
    "\n",
    "api_key = getpass(\"Enter your API key: \")"
   ]
  },
  {
   "cell_type": "code",
   "execution_count": 3,
   "metadata": {},
   "outputs": [],
   "source": [
    "import openai\n",
    "\n",
    "openai.api_key = api_key"
   ]
  },
  {
   "cell_type": "markdown",
   "metadata": {},
   "source": [
    "## First example\n",
    "\n",
    "Let's try to use ChatGPT to detect whether a passage of text contains a departure or arrival of a ship in a port. "
   ]
  },
  {
   "cell_type": "code",
   "execution_count": 5,
   "metadata": {},
   "outputs": [],
   "source": [
    "passages = [\n",
    "    \"De Valencia y Tarragona en 5 d. laud Sto. Cristo, de 30 t., piloto D. J. F. Adam, con 45 sacos arroz, 30 de habichuelas y 50 cahices salvado á D. J. Estrany, 40 sacos arroz á Don J. Fontanillas, 35 cargas loza y 33 serones azulejos á D. R. Girona.\",\n",
    "    \"La inflación en España se situó en el 2,7% en el mes de julio, lo que supone una décima más que en junio, según el indicador adelantado del índice de precios de consumo (IPC) publicado este jueves por el Instituto Nacional de Estadística (INE).\",\n",
    "    \"El Puerto de Buenos Aires es el principal puerto de contenedores de Buenos Aires y de Argentina, concentrando aproximadamente un 60 % del movimiento de contenedores del país. Es también uno de los puertos más importantes de la región latinoamericana debido a su moderna infraestructura y capacidad de carga.\",\n",
    "\n",
    "    \"Proveniente de Coruña, Cádiz y Cartagena en 21 d. polacra-goleta Segunda Clavellina, de 85 t., c. D. J. Ventura Perez, con 30 pipas sardina á D. C. Rabella, 15 id. á D. F. Raola, 8 id. á D. B. Fiol, 7 id. á los Sres. Soler y Esteve, 6 id. á D. D. Robert, 5 id., 3 de anchoa y 53 de congrio à D. J. Serra y Totosaus, 28 cajas vidrios á D. L. Grau, 6 id. á D. R. Girona, 1 id. á D. A. Basti, 4 cascos caparrosa á la Sra. viuda Rosiñol, 6 barriles crémor á D. G. Caña- dó, 4 1/2 pipas parocha y anchoa á D. B. Solá y Amat, y 8 fardos congrio á D. S. Seler.\",\n",
    "\n",
    "    \"De Rosario es Lionel Messi, el mejor jugador de fútbol del mundo. Nacido en Rosario, Argentina, el 24 de junio de 1987, Messi es considerado uno de los mejores jugadores de fútbol de todos los tiempos. Ha ganado numerosos premios y títulos, incluyendo ocho Balones de Oro\",\n",
    "]"
   ]
  },
  {
   "cell_type": "markdown",
   "metadata": {},
   "source": [
    "We will detect/classify if the given passage contains a departure or arrival of a ship in a port. To do this, we will use so called \"prompting\", particularly in the zero-shot mode.\n",
    "\n",
    "What is zero-shot? Zero-shot learning is a way of training models to perform tasks without having to provide examples of the task. \n",
    "\n"
   ]
  },
  {
   "cell_type": "code",
   "execution_count": 8,
   "metadata": {},
   "outputs": [
    {
     "name": "stdout",
     "output_type": "stream",
     "text": [
      "================================================================================\n",
      "Passage:  De Valencia y Tarragona en 5 d. laud Sto. Cristo, de 30 t., piloto D. J. F. Adam, con 45 sacos arroz, 30 de habichuelas y 50 cahices salvado á D. J. Estrany, 40 sacos arroz á Don J. Fontanillas, 35 cargas loza y 33 serones azulejos á D. R. Girona.\n",
      "Answer:  YES\n",
      "================================================================================\n",
      "Passage:  La inflación en España se situó en el 2,7% en el mes de julio, lo que supone una décima más que en junio, según el indicador adelantado del índice de precios de consumo (IPC) publicado este jueves por el Instituto Nacional de Estadística (INE).\n",
      "Answer:  NO\n",
      "================================================================================\n",
      "Passage:  El Puerto de Buenos Aires es el principal puerto de contenedores de Buenos Aires y de Argentina, concentrando aproximadamente un 60 % del movimiento de contenedores del país. Es también uno de los puertos más importantes de la región latinoamericana debido a su moderna infraestructura y capacidad de carga.\n",
      "Answer:  NO\n",
      "================================================================================\n",
      "Passage:  Proveniente de Coruña, Cádiz y Cartagena en 21 d. polacra-goleta Segunda Clavellina, de 85 t., c. D. J. Ventura Perez, con 30 pipas sardina á D. C. Rabella, 15 id. á D. F. Raola, 8 id. á D. B. Fiol, 7 id. á los Sres. Soler y Esteve, 6 id. á D. D. Robert, 5 id., 3 de anchoa y 53 de congrio à D. J. Serra y Totosaus, 28 cajas vidrios á D. L. Grau, 6 id. á D. R. Girona, 1 id. á D. A. Basti, 4 cascos caparrosa á la Sra. viuda Rosiñol, 6 barriles crémor á D. G. Caña- dó, 4 1/2 pipas parocha y anchoa á D. B. Solá y Amat, y 8 fardos congrio á D. S. Seler.\n",
      "Answer:  YES\n",
      "================================================================================\n",
      "Passage:  De Rosario es Lionel Messi, el mejor jugador de fútbol del mundo. Nacido en Rosario, Argentina, el 24 de junio de 1987, Messi es considerado uno de los mejores jugadores de fútbol de todos los tiempos. Ha ganado numerosos premios y títulos, incluyendo ocho Balones de Oro\n",
      "Answer:  NO\n"
     ]
    }
   ],
   "source": [
    "template_prompt = \"\"\"Given the following passage, answer 'YES' or 'NO' if the passage is about an arrival or departure of a ship from a port.\n",
    "###\n",
    "Passage: {}\n",
    "Answer:\n",
    "\"\"\"\n",
    "\n",
    "for passage in passages:\n",
    "    prompt = template_prompt.format(passage)\n",
    "    response = openai.chat.completions.create(\n",
    "        model=\"gpt-3.5-turbo-0125\",\n",
    "        messages=[{\n",
    "            \"role\": \"system\",\n",
    "            \"content\": prompt\n",
    "        }]\n",
    "    )\n",
    "    print(\"=\"*80)\n",
    "    print(\"Passage: \", passage)\n",
    "    print(\"Answer: \", response.choices[0].message.content)"
   ]
  },
  {
   "cell_type": "code",
   "execution_count": 7,
   "metadata": {},
   "outputs": [
    {
     "data": {
      "text/plain": [
       "[Choice(finish_reason='stop', index=0, logprobs=None, message=ChatCompletionMessage(content='YES', role='assistant', function_call=None, tool_calls=None))]"
      ]
     },
     "execution_count": 7,
     "metadata": {},
     "output_type": "execute_result"
    }
   ],
   "source": [
    "response.choices"
   ]
  },
  {
   "cell_type": "markdown",
   "metadata": {},
   "source": [
    "## Tabulating OCRed data\n",
    "\n",
    "We will use ChatGPT to parse text from OCRed data in order to get it tabulated. We will use the following passage of text as an example:\n"
   ]
  },
  {
   "cell_type": "code",
   "execution_count": 9,
   "metadata": {},
   "outputs": [],
   "source": [
    "text= \"\"\"De Valencia y Tarragona en 5 d. laud Sto. Cristo, de 30 t., piloto D. J. F. Adam, con 45 sacos arroz, 30 de habichuelas y 50 cahices salvado á D. J. Estrany, 40 sacos arroz á Don J. Fontanillas, 35 cargas loza y 33 serones azulejos á D. R. Girona.\n",
    "\n",
    "De Buen, Marin, Cádiz y Salou en 25 d. polacra-goleta Diligencia, de 94 t., p. C. Ra mon Martinez, con 44 1/2 pipas sardina á D. G. Dotras, 28 1/2 id. á D. R. Tomás y C.ª, 1 id. á D. J. Serra y Totosaus, 10 1/2 id. á D. I. Moreu, 7 1/2 á D. J. Poch y 7 id. á D. J Pou.\n",
    "\n",
    "\n",
    "De la Coruña, Cádiz y Cartagena en 21 d. polacra-goleta Segunda Clavellina, de 85 t., c. D. J. Ventura Perez, con 30 pipas sardina á D. C. Rabella, 15 id. á D. F. Raola, 8 id. á D. B. Fiol, 7 id. á los Sres. Soler y Esteve, 6 id. á D. D. Robert, 5 id., 3 de anchoa y 53 de congrio à D. J. Serra y Totosaus, 28 cajas vidrios á D. L. Grau, 6 id. á D. R. Girona, 1 id. á D. A. Basti, 4 cascos caparrosa á la Sra. viuda Rosiñol, 6 barriles crémor á D. G. Caña- dó, 4 1/2 pipas parocha y anchoa á D. B. Solá y Amat, y 8 fardos congrio á D. S. Seler.\n",
    "\n",
    "De Charleston en 42 d. polacra goleta Salud, de 130 t., c. D. J. Magri, con 293 balas\n",
    "algodon á D. B. Fiol.-Ha dado declaracion á las doce del dia.\n",
    "\n",
    "\n",
    "De Marsella en 24 horas vapor Guadalquivir, de 158 t., c. D. G. Villaverde, con 200,000 francos á los señores Vidal y Cuadras hermanos, 115,000 id. á los señores Girona hermanos. Clavé y Compañía, 52,200 id. á D. J. Torrens, 40,000 id. á D. I. Villavecchia, 40,000 id. á D. J. M. Serra, 25,142 id. á D. M. Roig y Rom, 25,000 id. á D. R. Vinent, 25,000 á los señores Dotres, Clavé y Fabra, 25,000 id. á los señores Plandolit hermanos, 15,000 id. á D. J. Martí Codolar, 10,000 id. á los señores Stagno, Torrens y Compañía, 6,000 id. á D. T. Ray- nal, laneria, sedería, algodonería, quincalla, drogas, papel pintado, sombreros, maquina- ria, relojería, perfumería, porcelana y otros efectos para esta y 157 bultos de varios géneros de tránsito y 26 pasajeros, consignado á los señores Martorell y Bofill.-Ha tenido entrada á las dos y media de la tarde.\n",
    "\n",
    "\n",
    "De Noya, Muros y Salou en 28 d. goleta Luisita, de 82 t., c. D. F. Fernandez Fajardo, con 56 cascos sardina á D. J. Poch, 61 id. á D. J. Novell, 37 id. á los Sres. Romeu, Tomás y compañia, y 8 id. á D. G. Dotres.\n",
    "\n",
    "De Newport en 28 d. bergantin Nomade, de 124 t., c. F. Janffret, con 140 toneladas carbon de piedra á los Sres. Serra hermanos.-Queda entredicho.\n",
    "\n",
    "Además 3 buques de la costa de este Principado, con 119 pipas vino trashordo, 22 qq. corteza de pino á D. J. Lombrich, y leña.\n",
    "\n",
    "\n",
    "Polacra española Esperanza, c. D. A. Lloret, para Cartagena con alquitran y drogas de tránsito.-Laud Trinidad, p. V. Cevero, para Cullera en lastre.-Id. S. Sebastian, p. F. Muelas, para id. en id.-Id. S. Sebastian, p. F. Juan, para id. en id.-Id. San Francisco, p. J. B. Martinez, para Vinaroz con aros de hierro, otros efectos y lastre.-Id. Rosario, p. H. Fábregas, para id. en lastre.-Id. Caridad, p. C. Subirat, para Alicante en id.-Id. Ven- tura, p. S. Alexadre, para Valencia en id.-Id. Lealtad, p. V. Jover, para id. con 20 balas de algodon.-Id. Tridente, p. P. Sans, para id. con 50 buitos géneros.-Id. Carmen, p. M. Terrasa, para id. en id.-Id. Rival, c. J. Blake, para Zante en id.-Ademas 20 buques para la costa de este Principado con efectos y lastre.\n",
    "\"\"\"\n"
   ]
  },
  {
   "cell_type": "markdown",
   "metadata": {},
   "source": [
    "First, let's try to use ChatGPT to perform a easy NER task."
   ]
  },
  {
   "cell_type": "code",
   "execution_count": 11,
   "metadata": {},
   "outputs": [],
   "source": [
    "\n",
    "# Create a completion\n",
    "\n",
    "prompt = f\"\"\"Detectar ciudades mencionadas en el texto. Devolver una lista con - por cada ciudad encontrada.\n",
    "{text}\n",
    "\"\"\"\n",
    "\n",
    "response = openai.chat.completions.create(\n",
    "    model=\"gpt-3.5-turbo-0125\",\n",
    "    messages=[{\n",
    "        \"role\": \"system\",\n",
    "        \"content\": prompt\n",
    "    }],\n",
    ")"
   ]
  },
  {
   "cell_type": "code",
   "execution_count": 12,
   "metadata": {},
   "outputs": [
    {
     "name": "stdout",
     "output_type": "stream",
     "text": [
      "- Valencia\n",
      "- Tarragona\n",
      "- Cádiz\n",
      "- Salou\n",
      "- La Coruña\n",
      "- Cartagena\n",
      "- Charleston\n",
      "- Marsella\n",
      "- Noya\n",
      "- Muros\n",
      "- Newport\n",
      "- Cartagena\n",
      "- Cullera\n",
      "- San Francisco\n",
      "- Vinaroz\n",
      "- Alicante\n",
      "- Lealtad\n",
      "- Tridente\n",
      "- Carmen\n",
      "- Zante\n"
     ]
    }
   ],
   "source": [
    "\n",
    "print(response.choices[0].message.content)"
   ]
  },
  {
   "cell_type": "markdown",
   "metadata": {},
   "source": [
    "We can ask to get it in JSON format!"
   ]
  },
  {
   "cell_type": "code",
   "execution_count": 14,
   "metadata": {},
   "outputs": [
    {
     "name": "stdout",
     "output_type": "stream",
     "text": [
      "{\n",
      "    \"ciudades\": [\n",
      "        \"Valencia\",\n",
      "        \"Tarragona\",\n",
      "        \"Buen\",\n",
      "        \"Marin\",\n",
      "        \"Cádiz\",\n",
      "        \"Salou\",\n",
      "        \"la Coruña\",\n",
      "        \"Cartagena\",\n",
      "        \"Charleston\",\n",
      "        \"Marsella\",\n",
      "        \"Noya\",\n",
      "        \"Muros\",\n",
      "        \"Newport\",\n",
      "        \"Cullera\",\n",
      "        \"Vinaroz\",\n",
      "        \"Alicante\",\n",
      "        \"Zante\"\n",
      "    ]\n",
      "}\n"
     ]
    }
   ],
   "source": [
    "\n",
    "# Create a completion\n",
    "\n",
    "prompt = f\"\"\"Detectar ciudades mencionadas en el texto. Devolver un json con el campo 'ciudades'\n",
    "{text}\n",
    "\"\"\"\n",
    "\n",
    "response = openai.chat.completions.create(\n",
    "    model=\"gpt-3.5-turbo-0125\",\n",
    "    messages=[{\n",
    "        \"role\": \"system\",\n",
    "        \"content\": prompt\n",
    "    }],\n",
    "    response_format={\"type\": \"json_object\"}\n",
    ")\n",
    "\n",
    "print(response.choices[0].message.content)"
   ]
  },
  {
   "cell_type": "code",
   "execution_count": 15,
   "metadata": {},
   "outputs": [],
   "source": [
    "### Parsing each departure"
   ]
  },
  {
   "cell_type": "code",
   "execution_count": 17,
   "metadata": {},
   "outputs": [
    {
     "name": "stdout",
     "output_type": "stream",
     "text": [
      "================================================================================\n",
      "{\n",
      "  \"origen\": [\"Valencia\", \"Tarragona\"],\n",
      "  \"capitán\": \"D. J. F. Adam\",\n",
      "  \"barco\": \"Sto. Cristo\",\n",
      "  \"carga\": [\"45 sacos arroz\", \"30 de habichuelas\", \"50 cahices salvado\", \"40 sacos arroz\", \"35 cargas loza\", \"33 serones azulejos\"],\n",
      "  \"fecha\": \"5 d.\"\n",
      "}\n",
      "================================================================================\n",
      "{\n",
      "  \"origen\": [\"Buen\", \"Marin\", \"Cádiz\", \"Salou\"],\n",
      "  \"capitán\": \"C. Ramon Martinez\",\n",
      "  \"barco\": \"Diligencia\",\n",
      "  \"carga\": [\"44 1/2 pipas sardina a D. G. Dotras\", \"28 1/2 id. a D. R. Tomás y C.\", \"1 id. a D. J. Serra y Totosaus\", \"10 1/2 id. a D. I. Moreu\", \"7 1/2 a D. J. Poch\", \"7 id. a D. J Pou\"],\n",
      "  \"fecha\": \"25 d.\"\n",
      "}\n",
      "================================================================================\n",
      "{\n",
      "  \"origen\": [\n",
      "    \"La Coruña\",\n",
      "    \"Cádiz\",\n",
      "    \"Cartagena\"\n",
      "  ],\n",
      "  \"capitán\": \"D. J. Ventura Perez\",\n",
      "  \"barco\": \"Segunda Clavellina\",\n",
      "  \"carga\": [\n",
      "    \"30 pipas sardina á D. C. Rabella\",\n",
      "    \"15 id. á D. F. Raola\",\n",
      "    \"8 id. á D. B. Fiol\",\n",
      "    \"7 id. á los Sres. Soler y Esteve\",\n",
      "    \"6 id. á D. D. Robert\",\n",
      "    \"5 id.\",\n",
      "    \"3 de anchoa\",\n",
      "    \"53 de congrio à D. J. Serra y Totosaus\",\n",
      "    \"28 cajas vidrios á D. L. Grau\",\n",
      "    \"6 id. á D. R. Girona\",\n",
      "    \"1 id. á D. A. Basti\",\n",
      "    \"4 cascos caparrosa á la Sra. viuda Rosiñol\",\n",
      "    \"6 barriles crémor á D. G. Caña- dó\",\n",
      "    \"4 1/2 pipas parocha y anchoa á D. B. Solá y Amat\",\n",
      "    \"8 fardos congrio á D. S. Seler\"\n",
      "  ],\n",
      "  \"fecha\": \"21 d.\"\n",
      "}\n",
      "================================================================================\n",
      "{\n",
      "  \"origen\": [\"Charleston\"],\n",
      "  \"capitán\": \"D. J. Magri\",\n",
      "  \"barco\": \"goleta Salud\",\n",
      "  \"carga\": [\"293 balas\"],\n",
      "  \"fecha\": \"42 d.\"\n",
      "}\n",
      "================================================================================\n",
      "{\n",
      "  \"origen\": null,\n",
      "  \"capitán\": null,\n",
      "  \"barco\": null,\n",
      "  \"carga\": null,\n",
      "  \"fecha\": null\n",
      "}\n",
      "================================================================================\n",
      "{\n",
      "  \"origen\": [\"Marsella\"],\n",
      "  \"capitán\": \"D. G. Villaverde\",\n",
      "  \"barco\": \"Guadalquivir\",\n",
      "  \"carga\": [\"laneria\", \"sedería\", \"algodonería\", \"quincalla\", \"drogas\", \"papel pintado\", \"sombreros\", \"maquinaria\", \"relojería\", \"perfumería\", \"porcelana y otros efectos\", \"157 bultos de varios géneros de tránsito\", \"26 pasajeros\"],\n",
      "  \"fecha\": \"24 horas\"\n",
      "}\n",
      "================================================================================\n",
      "{\n",
      "  \"origen\": [\"Noya\", \"Muros\", \"Salou\"],\n",
      "  \"capitán\": \"D. F. Fernandez Fajardo\",\n",
      "  \"barco\": \"goleta Luisita\",\n",
      "  \"carga\": [\"56 cascos sardina á D. J. Poch\", \"61 id. á D. J. Novell\", \"37 id. á los Sres. Romeu, Tomás y compañia\", \"8 id. á D. G. Dotres\"],\n",
      "  \"fecha\": \"28 d.\"\n",
      "}\n",
      "================================================================================\n",
      "{\n",
      "  \"origen\": [\"Newport\"],\n",
      "  \"capitán\": \"F. Janffret\",\n",
      "  \"barco\": \"Nomade\",\n",
      "  \"carga\": [\"140 toneladas carbon de piedra\"],\n",
      "  \"fecha\": \"28 d.\"\n",
      "}\n",
      "================================================================================\n",
      "{\n",
      "    \"origen\": null,\n",
      "    \"capitán\": null,\n",
      "    \"barco\": null,\n",
      "    \"carga\": null,\n",
      "    \"fecha\": null\n",
      "}\n",
      "================================================================================\n",
      "{\n",
      "  \"origen\": [\n",
      "    \"Cartagena\"\n",
      "  ],\n",
      "  \"capitán\": \"D. A. Lloret\",\n",
      "  \"barco\": \"Polacra española Esperanza\",\n",
      "  \"carga\": [\n",
      "    \"alquitran\",\n",
      "    \"drogas de tránsito\"\n",
      "  ],\n",
      "  \"fecha\": null\n",
      "}\n"
     ]
    }
   ],
   "source": [
    "template_prompt = \"\"\"Para cada línea de texto, detectar si se trata de un envío particular de una ciudad a otra. Devolver un json con los siguientes campos:\n",
    "\n",
    "- origen: ciudad de origen (list of string )\n",
    "- capitán: nombre del capitán (string)\n",
    "- barco: nombre del barco (string)\n",
    "- carga: descripción de la carga (list of strings)\n",
    "- fecha: fecha del envío (string)\n",
    "\n",
    "En caso de que no se pueda detectar alguno de los campos, devolver null. En caso de que la línea no sea un envío, devolver null.\n",
    "\n",
    "###\n",
    "{line}\n",
    "\"\"\"\n",
    "\n",
    "\n",
    "for line in text.split(\"\\n\"):\n",
    "    line = line.strip()\n",
    "\n",
    "    if not line:\n",
    "        continue\n",
    "\n",
    "\n",
    "    prompt = template_prompt.format(line=line)\n",
    "    response = openai.chat.completions.create(\n",
    "        model=\"gpt-3.5-turbo-0125\",\n",
    "        messages=[{\n",
    "            \"role\": \"system\",\n",
    "            \"content\": prompt\n",
    "        }],\n",
    "        response_format={\"type\": \"json_object\"}\n",
    "    )\n",
    "    print(\"=\"*80)\n",
    "    print(response.choices[0].message.content)\n"
   ]
  },
  {
   "cell_type": "code",
   "execution_count": 32,
   "metadata": {},
   "outputs": [
    {
     "name": "stdout",
     "output_type": "stream",
     "text": [
      "\n",
      "{\n",
      "    \"origen\": \"Valencia\",\n",
      "    \"destino\": \"Tarragona\",\n",
      "    \"capitán\": \"D. J. F. Adam\",\n",
      "    \"barco\": \"Sto. Cristo\",\n",
      "    \"carga\": [\n",
      "        \"45 sacos arroz\",\n",
      "        \"30 de habichuelas\",\n",
      "        \"50 cahices salvado\",\n",
      "        \"40 sacos arroz\",\n",
      "        \"35 cargas loza\",\n",
      "        \"33 serones azulejos\"\n",
      "    ],\n",
      "    \"fecha\": \"5 d.\"\n",
      "}\n"
     ]
    }
   ],
   "source": [
    "\n",
    "print(response.choices[0].message.content)"
   ]
  },
  {
   "cell_type": "markdown",
   "metadata": {},
   "source": [
    "## Exercise:\n",
    "\n",
    "\n",
    "Check out the [`data/ocred`](https://github.com/finiteautomata/portada_nlp/tree/main/data/ocred) directory in the repository and try to parse it"
   ]
  }
 ],
 "metadata": {
  "kernelspec": {
   "display_name": ".venv",
   "language": "python",
   "name": "python3"
  },
  "language_info": {
   "codemirror_mode": {
    "name": "ipython",
    "version": 3
   },
   "file_extension": ".py",
   "mimetype": "text/x-python",
   "name": "python",
   "nbconvert_exporter": "python",
   "pygments_lexer": "ipython3",
   "version": "3.10.7"
  }
 },
 "nbformat": 4,
 "nbformat_minor": 2
}
